{
 "cells": [
  {
   "cell_type": "markdown",
   "id": "88a20f38-b059-4c76-8ec1-82b4535d04f2",
   "metadata": {},
   "source": [
    "# [Advent of Code](https://adventofcode.com/2021)\n"
   ]
  },
  {
   "cell_type": "code",
   "execution_count": 5,
   "id": "33974562-d31d-4df1-9321-620304e57ee9",
   "metadata": {},
   "outputs": [],
   "source": [
    "import numpy as np\n",
    "import pandas as pd"
   ]
  },
  {
   "cell_type": "markdown",
   "id": "eb396ace-8975-41e4-8233-2bc4c36044e6",
   "metadata": {},
   "source": [
    "### Day 1 Puzzle 1\n",
    "How many measurements are larger than the previous measurement?"
   ]
  },
  {
   "cell_type": "code",
   "execution_count": 6,
   "id": "c1f29ba3-3624-4666-bf97-365e2ddcbfa8",
   "metadata": {},
   "outputs": [
    {
     "data": {
      "text/html": [
       "<div>\n",
       "<style scoped>\n",
       "    .dataframe tbody tr th:only-of-type {\n",
       "        vertical-align: middle;\n",
       "    }\n",
       "\n",
       "    .dataframe tbody tr th {\n",
       "        vertical-align: top;\n",
       "    }\n",
       "\n",
       "    .dataframe thead th {\n",
       "        text-align: right;\n",
       "    }\n",
       "</style>\n",
       "<table border=\"1\" class=\"dataframe\">\n",
       "  <thead>\n",
       "    <tr style=\"text-align: right;\">\n",
       "      <th></th>\n",
       "      <th>Measurements</th>\n",
       "    </tr>\n",
       "  </thead>\n",
       "  <tbody>\n",
       "    <tr>\n",
       "      <th>0</th>\n",
       "      <td>132</td>\n",
       "    </tr>\n",
       "    <tr>\n",
       "      <th>1</th>\n",
       "      <td>146</td>\n",
       "    </tr>\n",
       "    <tr>\n",
       "      <th>2</th>\n",
       "      <td>153</td>\n",
       "    </tr>\n",
       "    <tr>\n",
       "      <th>3</th>\n",
       "      <td>175</td>\n",
       "    </tr>\n",
       "    <tr>\n",
       "      <th>4</th>\n",
       "      <td>180</td>\n",
       "    </tr>\n",
       "    <tr>\n",
       "      <th>...</th>\n",
       "      <td>...</td>\n",
       "    </tr>\n",
       "    <tr>\n",
       "      <th>1995</th>\n",
       "      <td>4462</td>\n",
       "    </tr>\n",
       "    <tr>\n",
       "      <th>1996</th>\n",
       "      <td>4460</td>\n",
       "    </tr>\n",
       "    <tr>\n",
       "      <th>1997</th>\n",
       "      <td>4465</td>\n",
       "    </tr>\n",
       "    <tr>\n",
       "      <th>1998</th>\n",
       "      <td>4473</td>\n",
       "    </tr>\n",
       "    <tr>\n",
       "      <th>1999</th>\n",
       "      <td>4474</td>\n",
       "    </tr>\n",
       "  </tbody>\n",
       "</table>\n",
       "<p>2000 rows × 1 columns</p>\n",
       "</div>"
      ],
      "text/plain": [
       "      Measurements\n",
       "0              132\n",
       "1              146\n",
       "2              153\n",
       "3              175\n",
       "4              180\n",
       "...            ...\n",
       "1995          4462\n",
       "1996          4460\n",
       "1997          4465\n",
       "1998          4473\n",
       "1999          4474\n",
       "\n",
       "[2000 rows x 1 columns]"
      ]
     },
     "execution_count": 6,
     "metadata": {},
     "output_type": "execute_result"
    }
   ],
   "source": [
    "measurements = pd.read_csv('Data/day1_puzzle1_depth_measurement.csv') \n",
    "measurements"
   ]
  },
  {
   "cell_type": "code",
   "execution_count": 7,
   "id": "1137173d-9512-4300-9931-44f268baeb89",
   "metadata": {},
   "outputs": [
    {
     "name": "stdout",
     "output_type": "stream",
     "text": [
      "1288\n"
     ]
    }
   ],
   "source": [
    "measurements = measurements['Measurements'].tolist()\n",
    "larger = []\n",
    "\n",
    "for k in range(len(measurements)):\n",
    "    if measurements[k] > measurements[k-1]:\n",
    "        larger.append(measurements[k])\n",
    "\n",
    "print(len(larger))"
   ]
  },
  {
   "cell_type": "markdown",
   "id": "0b05883e-68de-4484-a05c-98c55e035fa3",
   "metadata": {},
   "source": [
    "---"
   ]
  },
  {
   "cell_type": "markdown",
   "id": "276f4e0f-efd2-4aa9-ab7e-b74e4f003a6b",
   "metadata": {},
   "source": [
    "### Day 1 Puzzle 2\n",
    "Your goal now is to count the number of times the sum of measurements in this (three-measurement) sliding window increases from the previous sum."
   ]
  },
  {
   "cell_type": "code",
   "execution_count": 8,
   "id": "415401de-1c6b-4e8e-a661-18cfcefc2cff",
   "metadata": {},
   "outputs": [],
   "source": [
    "#Sum three measurements\n",
    "#Sum three more measurements, minus the first measurement and add the next measurement in the list\n",
    "#Compare the two sums and determine if they were increasing, if so, count that\n",
    "#Report the sum of the count"
   ]
  },
  {
   "cell_type": "code",
   "execution_count": 9,
   "id": "7af5a1cc-14da-4c00-80eb-c78c342a6513",
   "metadata": {},
   "outputs": [
    {
     "name": "stdout",
     "output_type": "stream",
     "text": [
      "1311\n"
     ]
    }
   ],
   "source": [
    "#Create sums of 3 measurements \n",
    "window_sum = []\n",
    "i = 0\n",
    "j = 3\n",
    "\n",
    "for k in range(len(measurements)):\n",
    "    window_sum.append(sum(measurements[0+i:0+j]))\n",
    "    i = i + 1\n",
    "    j = j + 1 \n",
    "\n",
    "#Collect list of the increasing sums     \n",
    "window_sum_larger = []\n",
    "\n",
    "for k in range(len(window_sum)):\n",
    "    if window_sum[k] > window_sum[k-1]:\n",
    "        window_sum_larger.append(window_sum[k])\n",
    "\n",
    "print(len(window_sum_larger))"
   ]
  }
 ],
 "metadata": {
  "kernelspec": {
   "display_name": "Python 3",
   "language": "python",
   "name": "python3"
  },
  "language_info": {
   "codemirror_mode": {
    "name": "ipython",
    "version": 3
   },
   "file_extension": ".py",
   "mimetype": "text/x-python",
   "name": "python",
   "nbconvert_exporter": "python",
   "pygments_lexer": "ipython3",
   "version": "3.8.8"
  }
 },
 "nbformat": 4,
 "nbformat_minor": 5
}
