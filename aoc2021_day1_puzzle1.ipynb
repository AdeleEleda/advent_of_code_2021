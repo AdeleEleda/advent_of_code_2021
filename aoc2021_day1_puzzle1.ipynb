{
 "cells": [
  {
   "cell_type": "markdown",
   "id": "88a20f38-b059-4c76-8ec1-82b4535d04f2",
   "metadata": {},
   "source": [
    "# [Advent of Code](https://adventofcode.com/2021)\n"
   ]
  },
  {
   "cell_type": "code",
   "execution_count": 2,
   "id": "33974562-d31d-4df1-9321-620304e57ee9",
   "metadata": {},
   "outputs": [],
   "source": [
    "import numpy as np\n",
    "import pandas as pd"
   ]
  },
  {
   "cell_type": "markdown",
   "id": "eb396ace-8975-41e4-8233-2bc4c36044e6",
   "metadata": {},
   "source": [
    "### Day 1 Puzzle 1\n",
    "How many measurements are larger than the previous measurement?"
   ]
  },
  {
   "cell_type": "code",
   "execution_count": 3,
   "id": "c1f29ba3-3624-4666-bf97-365e2ddcbfa8",
   "metadata": {},
   "outputs": [
    {
     "data": {
      "text/html": [
       "<div>\n",
       "<style scoped>\n",
       "    .dataframe tbody tr th:only-of-type {\n",
       "        vertical-align: middle;\n",
       "    }\n",
       "\n",
       "    .dataframe tbody tr th {\n",
       "        vertical-align: top;\n",
       "    }\n",
       "\n",
       "    .dataframe thead th {\n",
       "        text-align: right;\n",
       "    }\n",
       "</style>\n",
       "<table border=\"1\" class=\"dataframe\">\n",
       "  <thead>\n",
       "    <tr style=\"text-align: right;\">\n",
       "      <th></th>\n",
       "      <th>Measurements</th>\n",
       "    </tr>\n",
       "  </thead>\n",
       "  <tbody>\n",
       "    <tr>\n",
       "      <th>0</th>\n",
       "      <td>132</td>\n",
       "    </tr>\n",
       "    <tr>\n",
       "      <th>1</th>\n",
       "      <td>146</td>\n",
       "    </tr>\n",
       "    <tr>\n",
       "      <th>2</th>\n",
       "      <td>153</td>\n",
       "    </tr>\n",
       "    <tr>\n",
       "      <th>3</th>\n",
       "      <td>175</td>\n",
       "    </tr>\n",
       "    <tr>\n",
       "      <th>4</th>\n",
       "      <td>180</td>\n",
       "    </tr>\n",
       "    <tr>\n",
       "      <th>...</th>\n",
       "      <td>...</td>\n",
       "    </tr>\n",
       "    <tr>\n",
       "      <th>1995</th>\n",
       "      <td>4462</td>\n",
       "    </tr>\n",
       "    <tr>\n",
       "      <th>1996</th>\n",
       "      <td>4460</td>\n",
       "    </tr>\n",
       "    <tr>\n",
       "      <th>1997</th>\n",
       "      <td>4465</td>\n",
       "    </tr>\n",
       "    <tr>\n",
       "      <th>1998</th>\n",
       "      <td>4473</td>\n",
       "    </tr>\n",
       "    <tr>\n",
       "      <th>1999</th>\n",
       "      <td>4474</td>\n",
       "    </tr>\n",
       "  </tbody>\n",
       "</table>\n",
       "<p>2000 rows × 1 columns</p>\n",
       "</div>"
      ],
      "text/plain": [
       "      Measurements\n",
       "0              132\n",
       "1              146\n",
       "2              153\n",
       "3              175\n",
       "4              180\n",
       "...            ...\n",
       "1995          4462\n",
       "1996          4460\n",
       "1997          4465\n",
       "1998          4473\n",
       "1999          4474\n",
       "\n",
       "[2000 rows x 1 columns]"
      ]
     },
     "execution_count": 3,
     "metadata": {},
     "output_type": "execute_result"
    }
   ],
   "source": [
    "measurements = pd.read_csv('Data/day1_puzzle1_depth_measurement.csv') \n",
    "measurements"
   ]
  },
  {
   "cell_type": "code",
   "execution_count": 4,
   "id": "1137173d-9512-4300-9931-44f268baeb89",
   "metadata": {},
   "outputs": [
    {
     "name": "stdout",
     "output_type": "stream",
     "text": [
      "1288\n"
     ]
    }
   ],
   "source": [
    "measurements = measurements['Measurements'].tolist()\n",
    "larger = []\n",
    "\n",
    "for k in range(len(measurements)):\n",
    "    if measurements[k] > measurements[k-1]:\n",
    "        larger.append(measurements[k])\n",
    "\n",
    "print(len(larger))"
   ]
  },
  {
   "cell_type": "code",
   "execution_count": null,
   "id": "c93bedf9-6806-47e0-9aed-d90c623d4e2a",
   "metadata": {},
   "outputs": [],
   "source": []
  }
 ],
 "metadata": {
  "kernelspec": {
   "display_name": "Python 3",
   "language": "python",
   "name": "python3"
  },
  "language_info": {
   "codemirror_mode": {
    "name": "ipython",
    "version": 3
   },
   "file_extension": ".py",
   "mimetype": "text/x-python",
   "name": "python",
   "nbconvert_exporter": "python",
   "pygments_lexer": "ipython3",
   "version": "3.8.8"
  }
 },
 "nbformat": 4,
 "nbformat_minor": 5
}
